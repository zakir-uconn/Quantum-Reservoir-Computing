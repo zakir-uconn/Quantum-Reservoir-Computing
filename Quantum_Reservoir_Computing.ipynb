{
  "nbformat": 4,
  "nbformat_minor": 0,
  "metadata": {
    "colab": {
      "provenance": [],
      "authorship_tag": "ABX9TyNRIcJV3ebE5CSCd6Daw+GP",
      "include_colab_link": true
    },
    "kernelspec": {
      "name": "python3",
      "display_name": "Python 3"
    },
    "language_info": {
      "name": "python"
    }
  },
  "cells": [
    {
      "cell_type": "markdown",
      "metadata": {
        "id": "view-in-github",
        "colab_type": "text"
      },
      "source": [
        "<a href=\"https://colab.research.google.com/github/zakir-uconn/Quantum-Reservoir-Computing/blob/main/Quantum_Reservoir_Computing.ipynb\" target=\"_parent\"><img src=\"https://colab.research.google.com/assets/colab-badge.svg\" alt=\"Open In Colab\"/></a>"
      ]
    },
    {
      "cell_type": "markdown",
      "source": [
        "# Quantum Reservoir Computing (QRC) Steps\n",
        "- Create a quantum reservoir.\n",
        "- Encoding classical data into the reservoir.\n",
        "- Extracting features and training a readout layer.\n"
      ],
      "metadata": {
        "id": "uRNA4ZWJ0GW0"
      }
    },
    {
      "cell_type": "code",
      "source": [
        "import numpy as np\n",
        "from qiskit import QuantumCircuit, Aer, execute\n",
        "from sklearn.linear_model import LinearRegression\n",
        "from sklearn.model_selection import train_test_split\n",
        "from sklearn.metrics import accuracy_score"
      ],
      "metadata": {
        "colab": {
          "base_uri": "https://localhost:8080/",
          "height": 558
        },
        "id": "3NhvGnZW0HMn",
        "outputId": "d0346858-af31-4be7-9fdf-62160b2691df"
      },
      "execution_count": 1,
      "outputs": [
        {
          "output_type": "error",
          "ename": "ImportError",
          "evalue": "Qiskit is installed in an invalid environment that has both Qiskit >=1.0 and an earlier version. You should create a new virtual environment, and ensure that you do not mix dependencies between Qiskit <1.0 and >=1.0. Any packages that depend on 'qiskit-terra' are not compatible with Qiskit 1.0 and will need to be updated. Qiskit unfortunately cannot enforce this requirement during environment resolution. See https://qisk.it/packaging-1-0 for more detail.",
          "traceback": [
            "\u001b[0;31m---------------------------------------------------------------------------\u001b[0m",
            "\u001b[0;31mImportError\u001b[0m                               Traceback (most recent call last)",
            "\u001b[0;32m<ipython-input-1-aeef45d3e351>\u001b[0m in \u001b[0;36m<cell line: 2>\u001b[0;34m()\u001b[0m\n\u001b[1;32m      1\u001b[0m \u001b[0;32mimport\u001b[0m \u001b[0mnumpy\u001b[0m \u001b[0;32mas\u001b[0m \u001b[0mnp\u001b[0m\u001b[0;34m\u001b[0m\u001b[0;34m\u001b[0m\u001b[0m\n\u001b[0;32m----> 2\u001b[0;31m \u001b[0;32mfrom\u001b[0m \u001b[0mqiskit\u001b[0m \u001b[0;32mimport\u001b[0m \u001b[0mQuantumCircuit\u001b[0m\u001b[0;34m,\u001b[0m \u001b[0mAer\u001b[0m\u001b[0;34m,\u001b[0m \u001b[0mexecute\u001b[0m\u001b[0;34m\u001b[0m\u001b[0;34m\u001b[0m\u001b[0m\n\u001b[0m\u001b[1;32m      3\u001b[0m \u001b[0;32mfrom\u001b[0m \u001b[0msklearn\u001b[0m\u001b[0;34m.\u001b[0m\u001b[0mlinear_model\u001b[0m \u001b[0;32mimport\u001b[0m \u001b[0mLinearRegression\u001b[0m\u001b[0;34m\u001b[0m\u001b[0;34m\u001b[0m\u001b[0m\n\u001b[1;32m      4\u001b[0m \u001b[0;32mfrom\u001b[0m \u001b[0msklearn\u001b[0m\u001b[0;34m.\u001b[0m\u001b[0mmodel_selection\u001b[0m \u001b[0;32mimport\u001b[0m \u001b[0mtrain_test_split\u001b[0m\u001b[0;34m\u001b[0m\u001b[0;34m\u001b[0m\u001b[0m\n\u001b[1;32m      5\u001b[0m \u001b[0;32mfrom\u001b[0m \u001b[0msklearn\u001b[0m\u001b[0;34m.\u001b[0m\u001b[0mmetrics\u001b[0m \u001b[0;32mimport\u001b[0m \u001b[0maccuracy_score\u001b[0m\u001b[0;34m\u001b[0m\u001b[0;34m\u001b[0m\u001b[0m\n",
            "\u001b[0;32m/usr/local/lib/python3.10/dist-packages/qiskit/__init__.py\u001b[0m in \u001b[0;36m<module>\u001b[0;34m\u001b[0m\n\u001b[1;32m     34\u001b[0m     \u001b[0m_suppress_error\u001b[0m \u001b[0;34m=\u001b[0m \u001b[0mos\u001b[0m\u001b[0;34m.\u001b[0m\u001b[0menviron\u001b[0m\u001b[0;34m.\u001b[0m\u001b[0mget\u001b[0m\u001b[0;34m(\u001b[0m\u001b[0;34m\"QISKIT_SUPPRESS_1_0_IMPORT_ERROR\"\u001b[0m\u001b[0;34m,\u001b[0m \u001b[0;32mFalse\u001b[0m\u001b[0;34m)\u001b[0m \u001b[0;34m==\u001b[0m \u001b[0;34m\"1\"\u001b[0m\u001b[0;34m\u001b[0m\u001b[0;34m\u001b[0m\u001b[0m\n\u001b[1;32m     35\u001b[0m     \u001b[0;32mif\u001b[0m \u001b[0;32mnot\u001b[0m \u001b[0m_suppress_error\u001b[0m \u001b[0;32mand\u001b[0m \u001b[0m_has_tools\u001b[0m\u001b[0;34m:\u001b[0m\u001b[0;34m\u001b[0m\u001b[0;34m\u001b[0m\u001b[0m\n\u001b[0;32m---> 36\u001b[0;31m         raise ImportError(\n\u001b[0m\u001b[1;32m     37\u001b[0m             \u001b[0;34m\"Qiskit is installed in an invalid environment that has both Qiskit >=1.0\"\u001b[0m\u001b[0;34m\u001b[0m\u001b[0;34m\u001b[0m\u001b[0m\n\u001b[1;32m     38\u001b[0m             \u001b[0;34m\" and an earlier version.\"\u001b[0m\u001b[0;34m\u001b[0m\u001b[0;34m\u001b[0m\u001b[0m\n",
            "\u001b[0;31mImportError\u001b[0m: Qiskit is installed in an invalid environment that has both Qiskit >=1.0 and an earlier version. You should create a new virtual environment, and ensure that you do not mix dependencies between Qiskit <1.0 and >=1.0. Any packages that depend on 'qiskit-terra' are not compatible with Qiskit 1.0 and will need to be updated. Qiskit unfortunately cannot enforce this requirement during environment resolution. See https://qisk.it/packaging-1-0 for more detail.",
            "",
            "\u001b[0;31m---------------------------------------------------------------------------\u001b[0;32m\nNOTE: If your import is failing due to a missing package, you can\nmanually install dependencies using either !pip or !apt.\n\nTo view examples of installing some common dependencies, click the\n\"Open Examples\" button below.\n\u001b[0;31m---------------------------------------------------------------------------\u001b[0m\n"
          ],
          "errorDetails": {
            "actions": [
              {
                "action": "open_url",
                "actionText": "Open Examples",
                "url": "/notebooks/snippets/importing_libraries.ipynb"
              }
            ]
          }
        }
      ]
    },
    {
      "cell_type": "markdown",
      "source": [
        "## Step 1: Create a Quantum Reservoir\n",
        "A quantum reservoir is represented by a parameterized quantum circuit with random rotations and entanglement.\n"
      ],
      "metadata": {
        "id": "8_Vcael4Fxsx"
      }
    },
    {
      "cell_type": "code",
      "source": [
        "def create_quantum_reservoir(num_qubits, depth):\n",
        "    \"\"\"\n",
        "    A quantum reservoir with random rotations and entanglement.\n",
        "    :param num_qubits: Number of qubits in the reservoir.\n",
        "    :param depth: Number of layers in the reservoir circuit.\n",
        "    :return: QuantumCircuit object.\n",
        "    \"\"\"\n",
        "    qc = QuantumCircuit(num_qubits)\n",
        "    np.random.seed(42)  # For reproducibility\n",
        "\n",
        "    for _ in range(depth):\n",
        "        for qubit in range(num_qubits):\n",
        "            qc.rx(np.random.uniform(0, 2 * np.pi), qubit)  # Random X-rotation\n",
        "            qc.rz(np.random.uniform(0, 2 * np.pi), qubit)  # Random Z-rotation\n",
        "        for qubit in range(num_qubits - 1):\n",
        "            qc.cx(qubit, qubit + 1)  # Add entanglement\n",
        "    return qc\n"
      ],
      "metadata": {
        "id": "MLsnX2gkFy48"
      },
      "execution_count": 4,
      "outputs": []
    },
    {
      "cell_type": "markdown",
      "source": [
        "## Step 2: Encode Input Data\n",
        "Encode classical input data into the quantum reservoir using rotations."
      ],
      "metadata": {
        "id": "n0_QWJP6GQ_M"
      }
    },
    {
      "cell_type": "code",
      "source": [
        "def encode_input(qc, data, num_qubits):\n",
        "    \"\"\"\n",
        "    Encode classical data into the quantum circuit.\n",
        "    :param qc: QuantumCircuit object.\n",
        "    :param data: List of input values.\n",
        "    :param num_qubits: Number of qubits in the reservoir.\n",
        "    \"\"\"\n",
        "    for i, value in enumerate(data):\n",
        "        qc.ry(value, i % num_qubits)  # Encode data using Y-rotation\n"
      ],
      "metadata": {
        "id": "aNqJBRJOGS4C"
      },
      "execution_count": 5,
      "outputs": []
    },
    {
      "cell_type": "markdown",
      "source": [
        "## Step 3: Run the Reservoir and Measure Outputs\n",
        "Simulate the quantum reservoir and measure the qubit states."
      ],
      "metadata": {
        "id": "WhRRui0TGgBp"
      }
    },
    {
      "cell_type": "code",
      "source": [
        "def run_reservoir(qc, num_qubits):\n",
        "    \"\"\"\n",
        "    Simulate the quantum reservoir and extract features from measurements.\n",
        "    :param qc: QuantumCircuit object.\n",
        "    :param num_qubits: Number of qubits.\n",
        "    :return: Feature vector (measurement probabilities).\n",
        "    \"\"\"\n",
        "    backend = Aer.get_backend('qasm_simulator')\n",
        "    qc.measure_all()  # Add measurement gates\n",
        "    result = execute(qc, backend, shots=100).result()  # Simulate with 100 shots\n",
        "    counts = result.get_counts()\n",
        "\n",
        "    # Normalize counts to get probabilities\n",
        "    probabilities = []\n",
        "    for i in range(2 ** num_qubits):\n",
        "        state = bin(i)[2:].zfill(num_qubits)  # Convert index to binary string\n",
        "        probabilities.append(counts.get(state, 0) / 100)\n",
        "    return probabilities"
      ],
      "metadata": {
        "id": "vQ4SkG-XGipn"
      },
      "execution_count": 6,
      "outputs": []
    },
    {
      "cell_type": "markdown",
      "source": [
        "## Step 4: Train and Evaluate the Linear Regression Model\n",
        "Use the extracted features from the reservoir to train a linear regression model for classification.\n"
      ],
      "metadata": {
        "id": "pRXf_8RWGlbI"
      }
    },
    {
      "cell_type": "code",
      "source": [
        "# Parameters\n",
        "num_qubits = 3\n",
        "depth = 5\n",
        "num_samples = 100\n",
        "\n",
        "# Generate synthetic dataset\n",
        "np.random.seed(42)\n",
        "data = np.random.rand(num_samples, num_qubits)  # Random inputs\n",
        "labels = (np.sum(data, axis=1) > 1.5).astype(int)  # Binary labels based on threshold\n",
        "\n",
        "# Split dataset\n",
        "X_train, X_test, y_train, y_test = train_test_split(data, labels, test_size=0.2, random_state=42)\n",
        "\n",
        "# Extract features from the quantum reservoir\n",
        "def extract_features(data, num_qubits, depth):\n",
        "    features = []\n",
        "    for sample in data:\n",
        "        qc = create_quantum_reservoir(num_qubits, depth)\n",
        "        encode_input(qc, sample, num_qubits)\n",
        "        features.append(run_reservoir(qc, num_qubits))\n",
        "    return np.array(features)\n",
        "\n",
        "# Extract features for training and testing\n",
        "X_train_features = extract_features(X_train, num_qubits, depth)\n",
        "X_test_features = extract_features(X_test, num_qubits, depth)\n",
        "\n",
        "# Train the linear regression model\n",
        "model = LinearRegression()\n",
        "model.fit(X_train_features, y_train)\n",
        "\n",
        "# Predict and evaluate\n",
        "y_pred = model.predict(X_test_features)\n",
        "y_pred_binary = (y_pred > 0.5).astype(int)  # Convert to binary predictions\n",
        "accuracy = accuracy_score(y_test, y_pred_binary)\n",
        "\n",
        "print(f\"Model Accuracy: {accuracy * 100:.2f}%\")\n"
      ],
      "metadata": {
        "id": "iuT8qyzzIpqi"
      },
      "execution_count": null,
      "outputs": []
    }
  ]
}