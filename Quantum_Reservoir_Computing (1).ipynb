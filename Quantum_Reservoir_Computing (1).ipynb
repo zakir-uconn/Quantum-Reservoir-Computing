{
  "nbformat": 4,
  "nbformat_minor": 0,
  "metadata": {
    "colab": {
      "provenance": []
    },
    "kernelspec": {
      "name": "python3",
      "display_name": "Python 3"
    },
    "language_info": {
      "name": "python"
    }
  },
  "cells": [
    {
      "cell_type": "markdown",
      "source": [
        "# Quantum Reservoir Computing (QRC) Steps\n",
        "- Create a quantum reservoir.\n",
        "- Encoding classical data into the reservoir.\n",
        "- Extracting features and training a readout layer.\n"
      ],
      "metadata": {
        "id": "uRNA4ZWJ0GW0"
      }
    },
    {
      "cell_type": "code",
      "source": [
        "pip install qiskit-aer==0.11.2"
      ],
      "metadata": {
        "id": "YpeKOmOUJju6",
        "outputId": "2a3c3372-0f67-4dd8-95bd-58d6f5c35854",
        "colab": {
          "base_uri": "https://localhost:8080/"
        }
      },
      "execution_count": 2,
      "outputs": [
        {
          "output_type": "stream",
          "name": "stdout",
          "text": [
            "Collecting qiskit-aer==0.11.2\n",
            "  Downloading qiskit_aer-0.11.2-cp310-cp310-manylinux_2_17_x86_64.manylinux2014_x86_64.whl.metadata (6.2 kB)\n",
            "Requirement already satisfied: numpy>=1.16.3 in /usr/local/lib/python3.10/dist-packages (from qiskit-aer==0.11.2) (1.26.4)\n",
            "Requirement already satisfied: qiskit-terra>=0.21.0 in /usr/local/lib/python3.10/dist-packages (from qiskit-aer==0.11.2) (0.25.3)\n",
            "Requirement already satisfied: scipy>=1.0 in /usr/local/lib/python3.10/dist-packages (from qiskit-aer==0.11.2) (1.13.1)\n",
            "Requirement already satisfied: rustworkx>=0.13.0 in /usr/local/lib/python3.10/dist-packages (from qiskit-terra>=0.21.0->qiskit-aer==0.11.2) (0.15.1)\n",
            "Requirement already satisfied: ply>=3.10 in /usr/local/lib/python3.10/dist-packages (from qiskit-terra>=0.21.0->qiskit-aer==0.11.2) (3.11)\n",
            "Requirement already satisfied: psutil>=5 in /usr/local/lib/python3.10/dist-packages (from qiskit-terra>=0.21.0->qiskit-aer==0.11.2) (5.9.5)\n",
            "Requirement already satisfied: sympy>=1.3 in /usr/local/lib/python3.10/dist-packages (from qiskit-terra>=0.21.0->qiskit-aer==0.11.2) (1.13.1)\n",
            "Requirement already satisfied: dill>=0.3 in /usr/local/lib/python3.10/dist-packages (from qiskit-terra>=0.21.0->qiskit-aer==0.11.2) (0.3.9)\n",
            "Requirement already satisfied: python-dateutil>=2.8.0 in /usr/local/lib/python3.10/dist-packages (from qiskit-terra>=0.21.0->qiskit-aer==0.11.2) (2.8.2)\n",
            "Requirement already satisfied: stevedore>=3.0.0 in /usr/local/lib/python3.10/dist-packages (from qiskit-terra>=0.21.0->qiskit-aer==0.11.2) (5.4.0)\n",
            "Requirement already satisfied: symengine<0.10,>=0.9 in /usr/local/lib/python3.10/dist-packages (from qiskit-terra>=0.21.0->qiskit-aer==0.11.2) (0.9.2)\n",
            "Requirement already satisfied: typing-extensions in /usr/local/lib/python3.10/dist-packages (from qiskit-terra>=0.21.0->qiskit-aer==0.11.2) (4.12.2)\n",
            "Requirement already satisfied: six>=1.5 in /usr/local/lib/python3.10/dist-packages (from python-dateutil>=2.8.0->qiskit-terra>=0.21.0->qiskit-aer==0.11.2) (1.17.0)\n",
            "Requirement already satisfied: pbr>=2.0.0 in /usr/local/lib/python3.10/dist-packages (from stevedore>=3.0.0->qiskit-terra>=0.21.0->qiskit-aer==0.11.2) (6.1.0)\n",
            "Requirement already satisfied: mpmath<1.4,>=1.1.0 in /usr/local/lib/python3.10/dist-packages (from sympy>=1.3->qiskit-terra>=0.21.0->qiskit-aer==0.11.2) (1.3.0)\n",
            "Downloading qiskit_aer-0.11.2-cp310-cp310-manylinux_2_17_x86_64.manylinux2014_x86_64.whl (12.8 MB)\n",
            "\u001b[2K   \u001b[90m━━━━━━━━━━━━━━━━━━━━━━━━━━━━━━━━━━━━━━━━\u001b[0m \u001b[32m12.8/12.8 MB\u001b[0m \u001b[31m16.1 MB/s\u001b[0m eta \u001b[36m0:00:00\u001b[0m\n",
            "\u001b[?25hInstalling collected packages: qiskit-aer\n",
            "Successfully installed qiskit-aer-0.11.2\n"
          ]
        }
      ]
    },
    {
      "cell_type": "code",
      "source": [
        "import numpy as np\n",
        "from qiskit import QuantumCircuit, Aer, execute\n",
        "from sklearn.linear_model import LinearRegression\n",
        "from sklearn.model_selection import train_test_split\n",
        "from sklearn.metrics import accuracy_score"
      ],
      "metadata": {
        "id": "3NhvGnZW0HMn"
      },
      "execution_count": 3,
      "outputs": []
    },
    {
      "cell_type": "markdown",
      "source": [
        "## Step 1: Create a Quantum Reservoir\n",
        "A quantum reservoir is represented by a parameterized quantum circuit with random rotations and entanglement.\n"
      ],
      "metadata": {
        "id": "8_Vcael4Fxsx"
      }
    },
    {
      "cell_type": "code",
      "source": [
        "def create_quantum_reservoir(num_qubits, depth):\n",
        "    \"\"\"\n",
        "    A quantum reservoir with random rotations and entanglement.\n",
        "    :param num_qubits: Number of qubits in the reservoir.\n",
        "    :param depth: Number of layers in the reservoir circuit.\n",
        "    :return: QuantumCircuit object.\n",
        "    \"\"\"\n",
        "    qc = QuantumCircuit(num_qubits)\n",
        "    np.random.seed(42)  # For reproducibility\n",
        "\n",
        "    for _ in range(depth):\n",
        "        for qubit in range(num_qubits):\n",
        "            qc.rx(np.random.uniform(0, 2 * np.pi), qubit)  # Random X-rotation\n",
        "            qc.rz(np.random.uniform(0, 2 * np.pi), qubit)  # Random Z-rotation\n",
        "        for qubit in range(num_qubits - 1):\n",
        "            qc.cx(qubit, qubit + 1)  # Add entanglement\n",
        "    return qc\n"
      ],
      "metadata": {
        "id": "MLsnX2gkFy48"
      },
      "execution_count": 4,
      "outputs": []
    },
    {
      "cell_type": "markdown",
      "source": [
        "## Step 2: Encode Input Data\n",
        "Encode classical input data into the quantum reservoir using rotations."
      ],
      "metadata": {
        "id": "n0_QWJP6GQ_M"
      }
    },
    {
      "cell_type": "code",
      "source": [
        "def encode_input(qc, data, num_qubits):\n",
        "    \"\"\"\n",
        "    Encode classical data into the quantum circuit.\n",
        "    :param qc: QuantumCircuit object.\n",
        "    :param data: List of input values.\n",
        "    :param num_qubits: Number of qubits in the reservoir.\n",
        "    \"\"\"\n",
        "    for i, value in enumerate(data):\n",
        "        qc.ry(value, i % num_qubits)  # Encode data using Y-rotation\n"
      ],
      "metadata": {
        "id": "aNqJBRJOGS4C"
      },
      "execution_count": 5,
      "outputs": []
    },
    {
      "cell_type": "markdown",
      "source": [
        "## Step 3: Run the Reservoir and Measure Outputs\n",
        "Simulate the quantum reservoir and measure the qubit states."
      ],
      "metadata": {
        "id": "WhRRui0TGgBp"
      }
    },
    {
      "cell_type": "code",
      "source": [
        "def run_reservoir(qc, num_qubits):\n",
        "    \"\"\"\n",
        "    Simulate the quantum reservoir and extract features from measurements.\n",
        "    :param qc: QuantumCircuit object.\n",
        "    :param num_qubits: Number of qubits.\n",
        "    :return: Feature vector (measurement probabilities).\n",
        "    \"\"\"\n",
        "    backend = Aer.get_backend('qasm_simulator')\n",
        "    qc.measure_all()  # Add measurement gates\n",
        "    result = execute(qc, backend, shots=100).result()  # Simulate with 100 shots\n",
        "    counts = result.get_counts()\n",
        "\n",
        "    # Normalize counts to get probabilities\n",
        "    probabilities = []\n",
        "    for i in range(2 ** num_qubits):\n",
        "        state = bin(i)[2:].zfill(num_qubits)  # Convert index to binary string\n",
        "        probabilities.append(counts.get(state, 0) / 100)\n",
        "    return probabilities"
      ],
      "metadata": {
        "id": "vQ4SkG-XGipn"
      },
      "execution_count": 6,
      "outputs": []
    },
    {
      "cell_type": "markdown",
      "source": [
        "## Step 4: Train and Evaluate the Linear Regression Model\n",
        "Use the extracted features from the reservoir to train a linear regression model for classification.\n"
      ],
      "metadata": {
        "id": "pRXf_8RWGlbI"
      }
    },
    {
      "cell_type": "code",
      "source": [
        "# Parameters\n",
        "num_qubits = 3\n",
        "depth = 5\n",
        "num_samples = 100\n",
        "\n",
        "# Generate synthetic dataset\n",
        "np.random.seed(42)\n",
        "data = np.random.rand(num_samples, num_qubits)  # Random inputs\n",
        "labels = (np.sum(data, axis=1) > 1.5).astype(int)  # Binary labels based on threshold\n",
        "\n",
        "# Split dataset\n",
        "X_train, X_test, y_train, y_test = train_test_split(data, labels, test_size=0.2, random_state=42)\n",
        "\n",
        "# Extract features from the quantum reservoir\n",
        "def extract_features(data, num_qubits, depth):\n",
        "    features = []\n",
        "    for sample in data:\n",
        "        qc = create_quantum_reservoir(num_qubits, depth)\n",
        "        encode_input(qc, sample, num_qubits)\n",
        "        features.append(run_reservoir(qc, num_qubits))\n",
        "    return np.array(features)\n",
        "\n",
        "# Extract features for training and testing\n",
        "X_train_features = extract_features(X_train, num_qubits, depth)\n",
        "X_test_features = extract_features(X_test, num_qubits, depth)\n",
        "\n",
        "# Train the linear regression model\n",
        "model = LinearRegression()\n",
        "model.fit(X_train_features, y_train)\n",
        "\n",
        "# Predict and evaluate\n",
        "y_pred = model.predict(X_test_features)\n",
        "y_pred_binary = (y_pred > 0.5).astype(int)  # Convert to binary predictions\n",
        "accuracy = accuracy_score(y_test, y_pred_binary)\n",
        "\n",
        "print(f\"Model Accuracy: {accuracy * 100:.2f}%\")\n"
      ],
      "metadata": {
        "id": "iuT8qyzzIpqi",
        "outputId": "0c514291-b98d-41f2-fd0c-6a0670d27574",
        "colab": {
          "base_uri": "https://localhost:8080/"
        }
      },
      "execution_count": 7,
      "outputs": [
        {
          "output_type": "stream",
          "name": "stdout",
          "text": [
            "Model Accuracy: 95.00%\n"
          ]
        }
      ]
    }
  ]
}